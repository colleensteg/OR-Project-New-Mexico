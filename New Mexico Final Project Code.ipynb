{
 "cells": [
  {
   "cell_type": "code",
   "execution_count": 3,
   "metadata": {},
   "outputs": [],
   "source": [
    "# import gerrychain graph function\n",
    "from gerrychain import Graph\n",
    "\n",
    "# read the .json file from laptop files\n",
    "filepath = 'C:\\\\Users\\\\colle\\\\Downloads\\\\'\n",
    "filename = 'NM_county.json'\n",
    "\n",
    "# read the graph from the .json file\n",
    "G = Graph.from_json( filepath + filename )"
   ]
  },
  {
   "cell_type": "code",
   "execution_count": 4,
   "metadata": {},
   "outputs": [],
   "source": [
    "# assign the population for each county as the name TOTPOP (total population)\n",
    "for node in G.nodes:\n",
    "    G.nodes[node]['TOTPOP'] = G.nodes[node]['P0010001']"
   ]
  },
  {
   "cell_type": "code",
   "execution_count": 5,
   "metadata": {},
   "outputs": [
    {
     "name": "stdout",
     "output_type": "stream",
     "text": [
      "Using L = 702312 and U = 709369 and k = 3\n"
     ]
    }
   ],
   "source": [
    "# Use a 1% population deviation between districts (+/- 0.5%)\n",
    "deviation = 0.01\n",
    "\n",
    "import math\n",
    "\n",
    "# number of districts in NM\n",
    "k = 3\n",
    "\n",
    "# total state population is the sum of TOTPOP for all nodes\n",
    "total_population = sum( G.nodes[node]['TOTPOP'] for node in G.nodes )\n",
    "\n",
    "# upper and lower bounds are set\n",
    "L = math.ceil( ( 1 - deviation / 2 ) * total_population / k )\n",
    "U = math.floor( ( 1 + deviation / 2 ) * total_population / k )\n",
    "print(\"Using L =\",L,\"and U =\",U,\"and k =\",k)"
   ]
  },
  {
   "cell_type": "code",
   "execution_count": 6,
   "metadata": {},
   "outputs": [
    {
     "name": "stdout",
     "output_type": "stream",
     "text": [
      "Set parameter Username\n",
      "Academic license - for non-commercial use only - expires 2024-10-18\n"
     ]
    }
   ],
   "source": [
    "# import gurobi and the GRB function\n",
    "import gurobipy as gp\n",
    "from gurobipy import GRB\n",
    "\n",
    "# create model \n",
    "m = gp.Model()\n",
    "\n",
    "# create variables\n",
    "x = m.addVars(G.nodes, k, vtype=GRB.BINARY) # x[i,j] equals one when county i is assigned to district j\n",
    "y = m.addVars(G.edges, vtype=GRB.BINARY)    # y[u,v] equals one when edge {u,v} is cut"
   ]
  },
  {
   "cell_type": "code",
   "execution_count": 7,
   "metadata": {},
   "outputs": [],
   "source": [
    "# objective is to minimize weighted cut edges (district perimeter lengths)\n",
    "m.setObjective( gp.quicksum( G.edges[u,v]['shared_perim'] * y[u,v] for u,v in G.edges ), GRB.MINIMIZE )"
   ]
  },
  {
   "cell_type": "code",
   "execution_count": 8,
   "metadata": {},
   "outputs": [],
   "source": [
    "# add constraints saying that each county i is assigned to one district\n",
    "m.addConstrs( gp.quicksum( x[i,j] for j in range(k)) == 1 for i in G.nodes )\n",
    "\n",
    "# add constraints saying that each district has population at least L and at most U\n",
    "m.addConstrs( gp.quicksum( G.nodes[i]['TOTPOP'] * x[i,j] for i in G.nodes) >= L for j in range(k) )\n",
    "m.addConstrs( gp.quicksum( G.nodes[i]['TOTPOP'] * x[i,j] for i in G.nodes) <= U for j in range(k) )\n",
    "\n",
    "# add constraints saying that edge {u,v} is cut if u is assigned to district j but v is not\n",
    "m.addConstrs( x[u,j] - x[v,j] <= y[u,v] for u,v in G.edges for j in range(k) )\n",
    "\n",
    "m.update()"
   ]
  },
  {
   "cell_type": "code",
   "execution_count": 9,
   "metadata": {},
   "outputs": [],
   "source": [
    "# Add root variables: r[i,j] equals 1 if node i is the \"root\" of district j\n",
    "r = m.addVars( G.nodes, k, vtype=GRB.BINARY)\n",
    "\n",
    "r[26,0].LB = 1  # fix Dona Ana (Las Cruces) county as root of district 0\n",
    "r[13,1].LB = 1 # fix Bernalillo (Alburquerque) county as root of district 1\n",
    "\n",
    "# Add flow variables: f[u,v] = amount of flow sent across arc uv \n",
    "#  Flows are sent across arcs of the directed version of G which we call DG\n",
    "\n",
    "# import networkx function\n",
    "import networkx as nx\n",
    "\n",
    "# directed version of G\n",
    "DG = nx.DiGraph(G)\n",
    "\n",
    "#add flow variables to model\n",
    "f = m.addVars( DG.edges )"
   ]
  },
  {
   "cell_type": "code",
   "execution_count": 10,
   "metadata": {},
   "outputs": [],
   "source": [
    "# The big-M proposed by Hojny et al.\n",
    "M = G.number_of_nodes() - k + 1\n",
    "\n",
    "# Each district j should have one root\n",
    "m.addConstrs( gp.quicksum( r[i,j] for i in G.nodes ) == 1 for j in range(k) )\n",
    "\n",
    "# If node i is not assigned to district j, then it cannot be its root\n",
    "m.addConstrs( r[i,j] <= x[i,j] for i in G.nodes for j in range(k) ) \n",
    "\n",
    "# if not a root, consume some flow.\n",
    "# if a root, only send out (so much) flow.\n",
    "m.addConstrs( gp.quicksum( f[j,i] - f[i,j] for j in G.neighbors(i) ) \n",
    "             >= 1 - M * gp.quicksum( r[i,j] for j in range(k) ) for i in G.nodes )\n",
    "\n",
    "# do not send flow across cut edges\n",
    "m.addConstrs( f[i,j] + f[j,i] <= M * ( 1 - y[i,j] ) for i,j in G.edges )\n",
    "\n",
    "# update the model\n",
    "m.update()"
   ]
  },
  {
   "cell_type": "code",
   "execution_count": 11,
   "metadata": {},
   "outputs": [
    {
     "name": "stdout",
     "output_type": "stream",
     "text": [
      "Gurobi Optimizer version 10.0.3 build v10.0.3rc0 (win64)\n",
      "\n",
      "CPU model: Intel(R) Core(TM) i7-10750H CPU @ 2.60GHz, instruction set [SSE2|AVX|AVX2]\n",
      "Thread count: 6 physical cores, 12 logical processors, using up to 12 threads\n",
      "\n",
      "Optimize a model with 486 rows, 432 columns and 1941 nonzeros\n",
      "Model fingerprint: 0x09c9ec15\n",
      "Variable types: 156 continuous, 276 integer (276 binary)\n",
      "Coefficient statistics:\n",
      "  Matrix range     [1e+00, 7e+05]\n",
      "  Objective range  [4e-02, 2e+00]\n",
      "  Bounds range     [1e+00, 1e+00]\n",
      "  RHS range        [1e+00, 7e+05]\n",
      "Presolve removed 139 rows and 112 columns\n",
      "Presolve time: 0.01s\n",
      "Presolved: 347 rows, 320 columns, 1431 nonzeros\n",
      "Variable types: 150 continuous, 170 integer (170 binary)\n",
      "\n",
      "Root relaxation: objective 5.542803e+00, 290 iterations, 0.01 seconds (0.00 work units)\n",
      "\n",
      "    Nodes    |    Current Node    |     Objective Bounds      |     Work\n",
      " Expl Unexpl |  Obj  Depth IntInf | Incumbent    BestBd   Gap | It/Node Time\n",
      "\n",
      "     0     0    5.54280    0   59          -    5.54280      -     -    0s\n",
      "     0     0    7.36663    0   74          -    7.36663      -     -    0s\n",
      "     0     0    7.36663    0   76          -    7.36663      -     -    0s\n",
      "     0     0    7.36663    0   76          -    7.36663      -     -    0s\n",
      "H    0     0                      16.4965304    7.36663  55.3%     -    0s\n",
      "     0     0    8.18023    0  111   16.49653    8.18023  50.4%     -    0s\n",
      "     0     0    8.70311    0  117   16.49653    8.70311  47.2%     -    0s\n",
      "     0     0   10.42759    0  118   16.49653   10.42759  36.8%     -    0s\n",
      "     0     0   10.42759    0  117   16.49653   10.42759  36.8%     -    0s\n",
      "     0     2   10.42759    0  117   16.49653   10.42759  36.8%     -    0s\n",
      "*  632   259              19      16.3964649   12.31220  24.9%  20.3    0s\n",
      "H 1054   340                      14.6925856   12.79669  12.9%  20.3    0s\n",
      "* 1246   241              22      13.3974445   12.99397  3.01%  20.1    0s\n",
      "\n",
      "Cutting planes:\n",
      "  Gomory: 2\n",
      "  Cover: 15\n",
      "  MIR: 31\n",
      "  StrongCG: 1\n",
      "  Flow cover: 4\n",
      "  RLT: 17\n",
      "\n",
      "Explored 1434 nodes (29848 simplex iterations) in 0.31 seconds (0.24 work units)\n",
      "Thread count was 12 (of 12 available processors)\n",
      "\n",
      "Solution count 4: 13.3974 14.6926 16.3965 16.4965 \n",
      "\n",
      "Optimal solution found (tolerance 1.00e-04)\n",
      "Best objective 1.339744446868e+01, best bound 1.339744446868e+01, gap 0.0000%\n"
     ]
    }
   ],
   "source": [
    "# solve IP model\n",
    "m.optimize()"
   ]
  },
  {
   "cell_type": "code",
   "execution_count": 12,
   "metadata": {},
   "outputs": [
    {
     "name": "stdout",
     "output_type": "stream",
     "text": [
      "The number of cut edges is 13.39744446868476\n",
      "District 0 has population 707695 and contains counties ['Roosevelt', 'Lincoln', 'Torrance', 'Luna', 'Lea', 'Chaves', 'Sierra', 'Valencia', 'De Baca', 'Otero', 'Grant', 'Doña Ana', 'Hidalgo', 'Socorro', 'Eddy']\n",
      "\n",
      "District 1 has population 707195 and contains counties ['Bernalillo', 'Catron', 'Cibola']\n",
      "\n",
      "District 2 has population 702632 and contains counties ['Curry', 'San Juan', 'Guadalupe', 'McKinley', 'Rio Arriba', 'Santa Fe', 'Quay', 'Union', 'San Miguel', 'Taos', 'Colfax', 'Sandoval', 'Harding', 'Los Alamos', 'Mora']\n",
      "\n"
     ]
    }
   ],
   "source": [
    "print(\"The number of cut edges is\",m.objval)\n",
    "\n",
    "# retrieve the districts and their populations\n",
    "districts = [ [i for i in G.nodes if x[i,j].x > 0.5] for j in range(k)]\n",
    "district_counties = [ [ G.nodes[i][\"NAME20\"] for i in districts[j] ] for j in range(k)]\n",
    "district_populations = [ sum(G.nodes[i][\"TOTPOP\"] for i in districts[j]) for j in range(k) ]\n",
    "\n",
    "# print district info\n",
    "for j in range(k):\n",
    "    print(\"District\",j,\"has population\",district_populations[j],\"and contains counties\",district_counties[j])\n",
    "    print(\"\")"
   ]
  },
  {
   "cell_type": "code",
   "execution_count": 13,
   "metadata": {},
   "outputs": [],
   "source": [
    "# import geopandas function\n",
    "import geopandas as gpd"
   ]
  },
  {
   "cell_type": "code",
   "execution_count": 15,
   "metadata": {},
   "outputs": [],
   "source": [
    "# Read New Mexico county shapefile from \"NM_county.shp\"\n",
    "filepath = 'C:\\\\Users\\\\colle\\\\Downloads\\\\'\n",
    "filename = 'NM_county.shp'\n",
    "\n",
    "# Read geopandas dataframe from file\n",
    "df = gpd.read_file( filepath + filename )"
   ]
  },
  {
   "cell_type": "code",
   "execution_count": 16,
   "metadata": {},
   "outputs": [
    {
     "data": {
      "image/png": "[encoded data removed]",
      "text/plain": [
       "<Figure size 432x288 with 1 Axes>"
      ]
     },
     "metadata": {
      "needs_background": "light"
     },
     "output_type": "display_data"
    }
   ],
   "source": [
    "# Which district is each county assigned to?\n",
    "assignment = [ -1 for i in G.nodes ]\n",
    "\n",
    "labeling = { i : j for i in G.nodes for j in range(k) if x[i,j].x > 0.5 }\n",
    "\n",
    "# Now add the assignments to a column of the dataframe and map it\n",
    "node_with_this_geoid = { G.nodes[i]['GEOID20'] : i for i in G.nodes }\n",
    "\n",
    "# pick a position u in the dataframe\n",
    "for u in range(G.number_of_nodes()):\n",
    "    \n",
    "    geoid = df['GEOID20'][u]\n",
    "    \n",
    "    # what node in G has this geoid?\n",
    "    i = node_with_this_geoid[geoid]\n",
    "    \n",
    "    # position u in the dataframe should be given\n",
    "    # the same district # that county i has in 'labeling'\n",
    "    assignment[u] = labeling[i]\n",
    "    \n",
    "# now add the assignments to a column of our dataframe and then map it\n",
    "df['assignment'] = assignment\n",
    "\n",
    "# plot the dataframe\n",
    "my_fig = df.plot(column='assignment').get_figure()"
   ]
  },
  {
   "cell_type": "code",
   "execution_count": null,
   "metadata": {},
   "outputs": [],
   "source": []
  }
 ],
 "metadata": {
  "kernelspec": {
   "display_name": "Python 3 (ipykernel)",
   "language": "python",
   "name": "python3"
  },
  "language_info": {
   "codemirror_mode": {
    "name": "ipython",
    "version": 3
   },
   "file_extension": ".py",
   "mimetype": "text/x-python",
   "name": "python",
   "nbconvert_exporter": "python",
   "pygments_lexer": "ipython3",
   "version": "3.9.7"
  }
 },
 "nbformat": 4,
 "nbformat_minor": 4
}
