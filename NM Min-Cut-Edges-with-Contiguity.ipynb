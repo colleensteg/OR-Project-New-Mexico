{
 "cells": [
  {
   "cell_type": "code",
   "execution_count": 29,
   "metadata": {},
   "outputs": [],
   "source": [
    "from gerrychain import Graph "
   ]
  },
  {
   "cell_type": "code",
   "execution_count": 30,
   "metadata": {},
   "outputs": [],
   "source": [
    "# Read New Mexico county graph from the json file \"NM_county.json\"\n",
    "filepath = '\\\\Users\\\\colle\\\\Downloads\\\\'\n",
    "filename = 'NM_county.json'\n",
    "\n",
    "G = Graph.from_json( filepath + filename )"
   ]
  },
  {
   "cell_type": "code",
   "execution_count": 31,
   "metadata": {
    "scrolled": false
   },
   "outputs": [],
   "source": [
    "for node in G.nodes:\n",
    "    county_name = G.nodes[node]['NAME20']\n",
    "    county_population = G.nodes[node]['P0010001']\n",
    "    G.nodes[node]['TOTPOP'] = county_population\n",
    "    #print('Node', node, 'represents', county_name, 'County, which had a population of', county_population, 'in the 2020 census.')"
   ]
  },
  {
   "cell_type": "code",
   "execution_count": 32,
   "metadata": {},
   "outputs": [
    {
     "name": "stdout",
     "output_type": "stream",
     "text": [
      "Using L = 702312 and U = 709369 and k = 3\n"
     ]
    }
   ],
   "source": [
    "# Let's impose a 1% population deviation (+/-0.5%)\n",
    "deviation = 0.01\n",
    "\n",
    "import math\n",
    "k = 3          # number of districts\n",
    "total_population = sum( G.nodes[node]['TOTPOP'] for node in G.nodes )\n",
    "ideal_population = total_population / k\n",
    "\n",
    "L = math.ceil( ( 1 - deviation / 2 ) * ideal_population )\n",
    "U = math.floor( ( 1 + deviation / 2 ) * ideal_population )\n",
    "print(\"Using L =\",L,\"and U =\",U,\"and k =\",k)"
   ]
  },
  {
   "cell_type": "code",
   "execution_count": 33,
   "metadata": {},
   "outputs": [],
   "source": [
    "import gurobipy as gp\n",
    "from gurobipy import GRB\n",
    "\n",
    "# create model \n",
    "m = gp.Model()\n",
    "\n",
    "# create variables\n",
    "x = m.addVars(G.nodes, k, vtype=GRB.BINARY) # x[i,j] equals one when county i is assigned to district j\n",
    "y = m.addVars(G.edges, vtype=GRB.BINARY)    # y[u,v] equals one when edge {u,v} is cut"
   ]
  },
  {
   "cell_type": "code",
   "execution_count": 34,
   "metadata": {},
   "outputs": [],
   "source": [
    "# objective is to minimize cut edges\n",
    "m.setObjective( gp.quicksum( y[u,v] for u,v in G.edges ), GRB.MINIMIZE )\n",
    "\n",
    "#m.setObjective (gp.quicksum( y ), GRB.MINIMIZE)"
   ]
  },
  {
   "cell_type": "code",
   "execution_count": 35,
   "metadata": {},
   "outputs": [],
   "source": [
    "# add constraints saying that each county i is assigned to one district\n",
    "m.addConstrs( gp.quicksum(x[i,j] for j in range(k)) == 1 for i in G.nodes)\n",
    "\n",
    "# add constraints saying that each district has population at least L and at most U\n",
    "m.addConstrs( gp.quicksum( G.nodes[i]['TOTPOP'] * x[i,j] for i in G.nodes) >= L for j in range(k) )\n",
    "m.addConstrs( gp.quicksum( G.nodes[i]['TOTPOP'] * x[i,j] for i in G.nodes) <= U for j in range(k) )\n",
    "\n",
    "# add constraints saying that edge {u,v} is cut if u is assigned to district j but v is not.\n",
    "m.addConstrs( x[u,j] - x[v,j] <= y[u,v] for u,v in G.edges for j in range(k))\n",
    "\n",
    "m.update()"
   ]
  },
  {
   "cell_type": "code",
   "execution_count": 36,
   "metadata": {},
   "outputs": [
    {
     "name": "stdout",
     "output_type": "stream",
     "text": [
      "Gurobi Optimizer version 10.0.3 build v10.0.3rc0 (win64)\n",
      "\n",
      "CPU model: Intel(R) Core(TM) i7-10750H CPU @ 2.60GHz, instruction set [SSE2|AVX|AVX2]\n",
      "Thread count: 6 physical cores, 12 logical processors, using up to 12 threads\n",
      "\n",
      "Optimize a model with 273 rows, 177 columns and 999 nonzeros\n",
      "Model fingerprint: 0xb8107d26\n",
      "Variable types: 0 continuous, 177 integer (177 binary)\n",
      "Coefficient statistics:\n",
      "  Matrix range     [1e+00, 7e+05]\n",
      "  Objective range  [1e+00, 1e+00]\n",
      "  Bounds range     [1e+00, 1e+00]\n",
      "  RHS range        [1e+00, 7e+05]\n",
      "Found heuristic solution: objective 49.0000000\n",
      "Presolve time: 0.00s\n",
      "Presolved: 273 rows, 177 columns, 999 nonzeros\n",
      "Variable types: 0 continuous, 177 integer (177 binary)\n",
      "\n",
      "Root relaxation: objective 0.000000e+00, 132 iterations, 0.00 seconds (0.00 work units)\n",
      "\n",
      "    Nodes    |    Current Node    |     Objective Bounds      |     Work\n",
      " Expl Unexpl |  Obj  Depth IntInf | Incumbent    BestBd   Gap | It/Node Time\n",
      "\n",
      "     0     0    0.00000    0   99   49.00000    0.00000   100%     -    0s\n",
      "H    0     0                      39.0000000    0.00000   100%     -    0s\n",
      "H    0     0                      35.0000000    0.00000   100%     -    0s\n",
      "     0     0    3.93684    0  104   35.00000    3.93684  88.8%     -    0s\n",
      "H    0     0                      34.0000000    3.93684  88.4%     -    0s\n",
      "H    0     0                      33.0000000    3.93684  88.1%     -    0s\n",
      "H    0     0                      25.0000000    5.76514  76.9%     -    0s\n",
      "     0     0    7.31288    0   85   25.00000    7.31288  70.7%     -    0s\n",
      "H    0     0                      22.0000000    7.31288  66.8%     -    0s\n",
      "     0     0    7.97284    0  115   22.00000    7.97284  63.8%     -    0s\n",
      "     0     0    8.17953    0  117   22.00000    8.17953  62.8%     -    0s\n",
      "     0     0    8.26131    0   77   22.00000    8.26131  62.4%     -    0s\n",
      "     0     0    8.29591    0  121   22.00000    8.29591  62.3%     -    0s\n",
      "     0     0    8.29698    0  121   22.00000    8.29698  62.3%     -    0s\n",
      "     0     0    9.26964    0  119   22.00000    9.26964  57.9%     -    0s\n",
      "     0     0    9.26964    0  119   22.00000    9.26964  57.9%     -    0s\n",
      "     0     0    9.26964    0   59   22.00000    9.26964  57.9%     -    0s\n",
      "H    0     0                      20.0000000    9.26964  53.7%     -    0s\n",
      "     0     0    9.37277    0   65   20.00000    9.37277  53.1%     -    0s\n",
      "     0     0   10.11409    0  106   20.00000   10.11409  49.4%     -    0s\n",
      "     0     0   10.29594    0  112   20.00000   10.29594  48.5%     -    0s\n",
      "     0     0   10.79245    0  112   20.00000   10.79245  46.0%     -    0s\n",
      "     0     0   10.81594    0  113   20.00000   10.81594  45.9%     -    0s\n",
      "     0     0   11.93542    0  109   20.00000   11.93542  40.3%     -    0s\n",
      "     0     0   11.97308    0  109   20.00000   11.97308  40.1%     -    0s\n",
      "     0     2   11.97308    0  109   20.00000   11.97308  40.1%     -    0s\n",
      "*   72    69              10      19.0000000   13.52138  28.8%  31.1    0s\n",
      "\n",
      "Cutting planes:\n",
      "  Gomory: 5\n",
      "  Cover: 3\n",
      "  Clique: 1\n",
      "  MIR: 23\n",
      "  StrongCG: 1\n",
      "  RLT: 28\n",
      "\n",
      "Explored 457 nodes (11120 simplex iterations) in 0.57 seconds (0.17 work units)\n",
      "Thread count was 12 (of 12 available processors)\n",
      "\n",
      "Solution count 9: 19 20 22 ... 49\n",
      "\n",
      "Optimal solution found (tolerance 1.00e-04)\n",
      "Best objective 1.900000000000e+01, best bound 1.900000000000e+01, gap 0.0000%\n"
     ]
    }
   ],
   "source": [
    "m.optimize()"
   ]
  },
  {
   "cell_type": "code",
   "execution_count": 37,
   "metadata": {},
   "outputs": [],
   "source": [
    "# Now, let's add contiguity constraints and re-solve the model.\n",
    "# We will use the contiguity constraints of Hojny et al. (MPC, 2021)\n",
    "#   https://link.springer.com/article/10.1007/s12532-020-00186-3\n",
    "\n",
    "# Add root variables: r[i,j] equals 1 if node i is the \"root\" of district j\n",
    "r = m.addVars( G.nodes, k, vtype=GRB.BINARY )\n",
    "\n",
    "# Add flow variables: f[u,v] = amount of flow sent across arc uv \n",
    "#  Flows are sent across arcs of the directed version of G which we call DG\n",
    "\n",
    "import networkx as nx\n",
    "DG = nx.DiGraph(G)      # directed version of G\n",
    "\n",
    "f = m.addVars( DG.edges )"
   ]
  },
  {
   "cell_type": "code",
   "execution_count": 38,
   "metadata": {},
   "outputs": [],
   "source": [
    "# The big-M proposed by Hojny et al.\n",
    "M = G.number_of_nodes() - k + 1\n",
    "\n",
    "# Each district j should have one root\n",
    "m.addConstrs( gp.quicksum( r[i,j] for i in G.nodes ) == 1 for j in range(k) )\n",
    "\n",
    "# If node i is not assigned to district j, then it cannot be its root\n",
    "m.addConstrs( r[i,j] <= x[i,j] for i in G.nodes for j in range(k) ) \n",
    "\n",
    "# if not a root, consume some flow.\n",
    "# if a root, only send out (so much) flow.\n",
    "m.addConstrs( gp.quicksum( f[j,i] - f[i,j] for j in G.neighbors(i) ) \n",
    "             >= 1 - M * gp.quicksum( r[i,j] for j in range(k) ) for i in G.nodes )\n",
    "\n",
    "# do not send flow across cut edges\n",
    "m.addConstrs( f[i,j] + f[j,i] <= M * ( 1 - y[i,j] ) for i,j in G.edges )\n",
    "\n",
    "m.update()"
   ]
  },
  {
   "cell_type": "code",
   "execution_count": 39,
   "metadata": {},
   "outputs": [
    {
     "name": "stdout",
     "output_type": "stream",
     "text": [
      "Gurobi Optimizer version 10.0.3 build v10.0.3rc0 (win64)\n",
      "\n",
      "CPU model: Intel(R) Core(TM) i7-10750H CPU @ 2.60GHz, instruction set [SSE2|AVX|AVX2]\n",
      "Thread count: 6 physical cores, 12 logical processors, using up to 12 threads\n",
      "\n",
      "Optimize a model with 486 rows, 432 columns and 1941 nonzeros\n",
      "Model fingerprint: 0x4d991e6b\n",
      "Variable types: 156 continuous, 276 integer (276 binary)\n",
      "Coefficient statistics:\n",
      "  Matrix range     [1e+00, 7e+05]\n",
      "  Objective range  [1e+00, 1e+00]\n",
      "  Bounds range     [1e+00, 1e+00]\n",
      "  RHS range        [1e+00, 7e+05]\n",
      "\n",
      "MIP start from previous solve did not produce a new incumbent solution\n",
      "\n",
      "Presolve time: 0.01s\n",
      "Presolved: 486 rows, 432 columns, 1950 nonzeros\n",
      "Variable types: 156 continuous, 276 integer (276 binary)\n",
      "\n",
      "Root relaxation: objective 0.000000e+00, 188 iterations, 0.01 seconds (0.00 work units)\n",
      "\n",
      "    Nodes    |    Current Node    |     Objective Bounds      |     Work\n",
      " Expl Unexpl |  Obj  Depth IntInf | Incumbent    BestBd   Gap | It/Node Time\n",
      "\n",
      "     0     0    0.00000    0  108          -    0.00000      -     -    0s\n",
      "     0     0    3.52768    0  113          -    3.52768      -     -    0s\n",
      "     0     0    7.33306    0   96          -    7.33306      -     -    0s\n",
      "     0     0    7.33306    0   97          -    7.33306      -     -    0s\n",
      "     0     0    7.33306    0   97          -    7.33306      -     -    0s\n",
      "     0     0    8.06379    0   82          -    8.06379      -     -    0s\n",
      "     0     0    8.25274    0  120          -    8.25274      -     -    0s\n",
      "     0     0    8.49584    0  118          -    8.49584      -     -    0s\n",
      "     0     0    8.49928    0  120          -    8.49928      -     -    0s\n",
      "     0     0    8.50809    0  121          -    8.50809      -     -    0s\n",
      "     0     0    8.85882    0   78          -    8.85882      -     -    0s\n",
      "     0     0    8.96940    0  133          -    8.96940      -     -    0s\n",
      "     0     0    8.96940    0  131          -    8.96940      -     -    0s\n",
      "     0     0    8.96940    0  123          -    8.96940      -     -    0s\n",
      "     0     0    8.96940    0  126          -    8.96940      -     -    0s\n",
      "     0     0    8.98177    0   85          -    8.98177      -     -    0s\n",
      "     0     0    8.98226    0   86          -    8.98226      -     -    0s\n",
      "     0     0    8.98692    0  125          -    8.98692      -     -    0s\n",
      "     0     0    8.98832    0  126          -    8.98832      -     -    0s\n",
      "     0     0    9.01337    0  128          -    9.01337      -     -    0s\n",
      "     0     0    9.01337    0  123          -    9.01337      -     -    0s\n",
      "     0     0    9.22263    0   73          -    9.22263      -     -    0s\n",
      "     0     0    9.85834    0  112          -    9.85834      -     -    0s\n",
      "     0     0    9.85834    0   72          -    9.85834      -     -    0s\n",
      "     0     0    9.85834    0  108          -    9.85834      -     -    0s\n",
      "     0     0    9.85834    0  118          -    9.85834      -     -    0s\n",
      "     0     0    9.85834    0  119          -    9.85834      -     -    0s\n",
      "     0     0    9.85834    0  118          -    9.85834      -     -    0s\n",
      "     0     0    9.86806    0  119          -    9.86806      -     -    0s\n",
      "     0     0    9.86806    0  115          -    9.86806      -     -    0s\n",
      "H    0     0                      21.0000000    9.86806  53.0%     -    0s\n",
      "     0     2    9.86806    0  115   21.00000    9.86806  53.0%     -    0s\n",
      "H 1050   184                      19.0000000   17.08797  10.1%  25.2    1s\n",
      "\n",
      "Cutting planes:\n",
      "  Gomory: 4\n",
      "  Cover: 9\n",
      "  Implied bound: 10\n",
      "  MIR: 25\n",
      "  StrongCG: 1\n",
      "  Flow cover: 3\n",
      "  Zero half: 2\n",
      "  RLT: 25\n",
      "\n",
      "Explored 1368 nodes (33046 simplex iterations) in 1.42 seconds (0.43 work units)\n",
      "Thread count was 12 (of 12 available processors)\n",
      "\n",
      "Solution count 2: 19 21 \n",
      "\n",
      "Optimal solution found (tolerance 1.00e-04)\n",
      "Best objective 1.900000000000e+01, best bound 1.900000000000e+01, gap 0.0000%\n"
     ]
    }
   ],
   "source": [
    "# solve IP model\n",
    "m.optimize()"
   ]
  },
  {
   "cell_type": "code",
   "execution_count": 40,
   "metadata": {},
   "outputs": [
    {
     "name": "stdout",
     "output_type": "stream",
     "text": [
      "The number of cut edges is 19.0\n",
      "District 0 has population 708853 and contains counties ['Curry', 'Roosevelt', 'Lincoln', 'Guadalupe', 'Luna', 'Lea', 'Chaves', 'Quay', 'Sierra', 'De Baca', 'Otero', 'Catron', 'San Miguel', 'Grant', 'Doña Ana', 'Hidalgo', 'Socorro', 'Eddy']\n",
      "\n",
      "District 1 has population 703616 and contains counties ['Bernalillo', 'Cibola']\n",
      "\n",
      "District 2 has population 705053 and contains counties ['San Juan', 'Torrance', 'McKinley', 'Rio Arriba', 'Santa Fe', 'Valencia', 'Union', 'Taos', 'Colfax', 'Sandoval', 'Harding', 'Los Alamos', 'Mora']\n",
      "\n"
     ]
    }
   ],
   "source": [
    "print(\"The number of cut edges is\",m.objval)\n",
    "\n",
    "# retrieve the districts and their populations\n",
    "districts = [ [i for i in G.nodes if x[i,j].x > 0.5] for j in range(k)]\n",
    "district_counties = [ [ G.nodes[i][\"NAME20\"] for i in districts[j] ] for j in range(k)]\n",
    "district_populations = [ sum(G.nodes[i][\"TOTPOP\"] for i in districts[j]) for j in range(k) ]\n",
    "\n",
    "# print district info\n",
    "for j in range(k):\n",
    "    print(\"District\",j,\"has population\",district_populations[j],\"and contains counties\",district_counties[j])\n",
    "    print(\"\")"
   ]
  },
  {
   "cell_type": "code",
   "execution_count": 42,
   "metadata": {},
   "outputs": [
    {
     "name": "stdout",
     "output_type": "stream",
     "text": [
      "The number of cut edges is 19.0\n",
      "District 0 has population 708853 and contains counties ['Curry', 'Roosevelt', 'Lincoln', 'Guadalupe', 'Luna', 'Lea', 'Chaves', 'Quay', 'Sierra', 'De Baca', 'Otero', 'Catron', 'San Miguel', 'Grant', 'Doña Ana', 'Hidalgo', 'Socorro', 'Eddy']\n",
      "\n",
      "District 1 has population 703616 and contains counties ['Bernalillo', 'Cibola']\n",
      "\n",
      "District 2 has population 705053 and contains counties ['San Juan', 'Torrance', 'McKinley', 'Rio Arriba', 'Santa Fe', 'Valencia', 'Union', 'Taos', 'Colfax', 'Sandoval', 'Harding', 'Los Alamos', 'Mora']\n",
      "\n"
     ]
    }
   ],
   "source": [
    "print(\"The number of cut edges is\",m.objval)\n",
    "\n",
    "# retrieve the districts and their populations\n",
    "districts = [ [i for i in G.nodes if x[i,j].x > 0.5] for j in range(k)]\n",
    "district_counties = [ [ G.nodes[i][\"NAME20\"] for i in districts[j] ] for j in range(k)]\n",
    "district_populations = [ sum(G.nodes[i][\"TOTPOP\"] for i in districts[j]) for j in range(k) ]\n",
    "\n",
    "# print district info\n",
    "for j in range(k):\n",
    "    print(\"District\",j,\"has population\",district_populations[j],\"and contains counties\",district_counties[j])\n",
    "    print(\"\")"
   ]
  },
  {
   "cell_type": "code",
   "execution_count": 43,
   "metadata": {},
   "outputs": [
    {
     "name": "stdout",
     "output_type": "stream",
     "text": [
      "Is district = [0, 1, 3, 4, 6, 9, 10, 12, 14, 16, 17, 18, 20, 22, 26, 28, 29, 32] connected True\n",
      "Is district = [13, 25] connected True\n",
      "Is district = [2, 5, 7, 8, 11, 15, 19, 21, 23, 24, 27, 30, 31] connected True\n"
     ]
    }
   ],
   "source": [
    "import networkx as nx\n",
    "for district in districts:\n",
    "    print('Is district =', district, 'connected', nx.is_connected(G.subgraph(district)))"
   ]
  },
  {
   "cell_type": "code",
   "execution_count": 44,
   "metadata": {},
   "outputs": [],
   "source": [
    "# Let's draw it on a map\n",
    "import geopandas as gpd"
   ]
  },
  {
   "cell_type": "code",
   "execution_count": 45,
   "metadata": {},
   "outputs": [],
   "source": [
    "# Read New Mexico county shapefile from \"NM_county.shp\"\n",
    "filepath = '\\\\Users\\\\colle\\\\Downloads\\\\'\n",
    "filename = 'NM_county.shp'\n",
    "\n",
    "# Read geopandas dataframe from file\n",
    "df = gpd.read_file( filepath + filename )"
   ]
  },
  {
   "cell_type": "code",
   "execution_count": 46,
   "metadata": {},
   "outputs": [
    {
     "data": {
      "image/png": "[encoded data removed]",
      "text/plain": [
       "<Figure size 432x288 with 1 Axes>"
      ]
     },
     "metadata": {
      "needs_background": "light"
     },
     "output_type": "display_data"
    }
   ],
   "source": [
    "# Which district is each county assigned to?\n",
    "assignment = [ -1 for i in G.nodes ]\n",
    "\n",
    "labeling = { i : j for i in G.nodes for j in range(k) if x[i,j].x > 0.5 }\n",
    "\n",
    "# Now add the assignments to a column of the dataframe and map it\n",
    "node_with_this_geoid = { G.nodes[i]['GEOID20'] : i for i in G.nodes }\n",
    "\n",
    "# pick a position u in the dataframe\n",
    "for u in range(G.number_of_nodes()):\n",
    "    \n",
    "    geoid = df['GEOID20'][u]\n",
    "    \n",
    "    # what node in G has this geoid?\n",
    "    i = node_with_this_geoid[geoid]\n",
    "    \n",
    "    # position u in the dataframe should be given\n",
    "    # the same district # that county i has in 'labeling'\n",
    "    assignment[u] = labeling[i]\n",
    "    \n",
    "# now add the assignments to a column of our dataframe and then map it\n",
    "df['assignment'] = assignment\n",
    "\n",
    "my_fig = df.plot(column='assignment').get_figure()"
   ]
  },
  {
   "cell_type": "code",
   "execution_count": null,
   "metadata": {},
   "outputs": [],
   "source": []
  }
 ],
 "metadata": {
  "kernelspec": {
   "display_name": "Python 3 (ipykernel)",
   "language": "python",
   "name": "python3"
  },
  "language_info": {
   "codemirror_mode": {
    "name": "ipython",
    "version": 3
   },
   "file_extension": ".py",
   "mimetype": "text/x-python",
   "name": "python",
   "nbconvert_exporter": "python",
   "pygments_lexer": "ipython3",
   "version": "3.9.7"
  }
 },
 "nbformat": 4,
 "nbformat_minor": 4
}
